{
 "cells": [
  {
   "cell_type": "markdown",
   "id": "d43dbefb",
   "metadata": {},
   "source": [
    "# Evaluate Your Model on Custom Data with LM-Eval\n",
    "\n",
    "While LM-Eval comes with 100+ out-of-the-box evaluation tasks, you might want to bring your own custom task to better evaluate a model's knowlegde and capabilities. This tutorial presents an example of running custom benchmark evaluations on the DK-Bench dataset with the TrustyAI LM-Eval Eval provider on LlamaStack. \n",
    "\n"
   ]
  },
  {
   "cell_type": "markdown",
   "id": "1cd2fb3a",
   "metadata": {},
   "source": [
    "## Overview \n",
    "\n",
    "This tutorial covers the following steps:\n",
    "\n",
    "1. Uploading custom data to your OpenShift cluster\n",
    "2. Registering DK-Bench as a custom benchmark to LM-Eval\n",
    "3. Running model evaluations on DK-Bench\n"
   ]
  },
  {
   "cell_type": "markdown",
   "id": "950325e2",
   "metadata": {
    "vscode": {
     "languageId": "plaintext"
    }
   },
   "source": [
    "## Prerequisites\n",
    "\n",
    "* Create a virtual environment:\n",
    "`uv venv .llama-venv`\n",
    "\n",
    "* Activate the virutal environment:\n",
    "`source .llama-venv/bin/activate`\n",
    "\n",
    "* Install the required libraries:\n",
    "`uv pip install -e .`"
   ]
  },
  {
   "cell_type": "markdown",
   "id": "6310fb22",
   "metadata": {
    "vscode": {
     "languageId": "plaintext"
    }
   },
   "source": [
    "## 1. Start the LlamaStack Server\n",
    "\n",
    "**1.1 Configure the LlamaStack Server**\n",
    "\n",
    "Define the following env vars: \n",
    "* `export VLLM_URL=...` - the `v1/completions` endpoint of the deployed model\n",
    "* `export TRUSTYAI_LM_EVAL_NAMESPACE=...` - the namespace that the model is deployed in"
   ]
  },
  {
   "cell_type": "markdown",
   "id": "132a5ab8",
   "metadata": {
    "vscode": {
     "languageId": "markdown"
    }
   },
   "source": [
    "**1.2 Start the Llama Stack Server**\n",
    "\n",
    "From the terminal, start the Llama Stack server in the virtual environment:\n",
    "\n",
    "`llama stack run run.yaml --image-type venv`"
   ]
  },
  {
   "cell_type": "code",
   "execution_count": 1,
   "id": "00b87544",
   "metadata": {},
   "outputs": [],
   "source": [
    "# import required libraries\n",
    "import os\n",
    "import subprocess\n",
    "\n",
    "import logging\n",
    "\n",
    "import time\n",
    "import pprint"
   ]
  },
  {
   "cell_type": "markdown",
   "id": "b1beea87",
   "metadata": {},
   "source": [
    "**1.3 Initatialize the Llama Stack Python Client**"
   ]
  },
  {
   "cell_type": "code",
   "execution_count": 2,
   "id": "772c506b",
   "metadata": {},
   "outputs": [],
   "source": [
    "# address of the Llama Stack server specified on the run.yaml file\n",
    "BASE_URL = \"http://localhost:8321\"\n",
    "\n",
    "def create_http_client():\n",
    "    from llama_stack_client import LlamaStackClient\n",
    "    return LlamaStackClient(base_url=BASE_URL)\n",
    "\n",
    "# create an HTTP client to interact with the Llama Stack server\n",
    "client = create_http_client()"
   ]
  },
  {
   "cell_type": "markdown",
   "id": "6922bc4f",
   "metadata": {},
   "source": [
    "## 2. Upload Custom Data to OpenShift\n",
    "\n",
    "In order to run LM-Eval with a custom task, we need to provide it with a reference to a stored dataset on our cluster. In this tutorial, we will use a PersistentVolumeClaim (PVC) as our storage object.\n",
    "\n"
   ]
  },
  {
   "cell_type": "markdown",
   "id": "28c32cee",
   "metadata": {},
   "source": [
    "**2.1 Create a Persistent Volume Claim (PVC) and Pod Object**\n",
    "\n",
    "The Pod downloads the data and stores it in the PVC"
   ]
  },
  {
   "cell_type": "code",
   "execution_count": null,
   "id": "e977c902",
   "metadata": {},
   "outputs": [],
   "source": [
    "# Create a PVC to store custom data\n",
    "!oc apply -f resources/pvc.yaml\n",
    "# Create a Pod to download the data\n",
    "!oc apply -f resources/pod.yaml"
   ]
  },
  {
   "cell_type": "markdown",
   "id": "eb9a442b",
   "metadata": {},
   "source": [
    "**2.2 Copy local data to the Pod**\n",
    "\n",
    "We have sample DK-Bench dataset in the `/data` folder named `example-dk-bench-input-bmo.jsonl`. Let's upload it to our OpenShift Cluster by copying it to the Pod we just created"
   ]
  },
  {
   "cell_type": "code",
   "execution_count": null,
   "id": "0cccba1c",
   "metadata": {},
   "outputs": [],
   "source": [
    "!oc cp resources/data/example-dk-bench-input-bmo.jsonl dataset-storage-pod:/data/upload_files/example-dk-bench-input-bmo.jsonl"
   ]
  },
  {
   "cell_type": "markdown",
   "id": "aab501f9",
   "metadata": {
    "vscode": {
     "languageId": "plaintext"
    }
   },
   "source": [
    "## 2. Register the Custom Dataset\n",
    "\n"
   ]
  },
  {
   "cell_type": "markdown",
   "id": "569d570b",
   "metadata": {},
   "source": [
    "In order to run evaluations on custom dataset, at a minimum, we need to provide in the `metadata`:\n",
    "\n",
    "* The `TrustyAI LM-Eval Tasks` GitHub url, branch, commit SHA, and path of the custom task\n",
    "* The location of the custom task file in our PVC"
   ]
  },
  {
   "cell_type": "code",
   "execution_count": null,
   "id": "e86dc3a1",
   "metadata": {},
   "outputs": [
    {
     "name": "stderr",
     "output_type": "stream",
     "text": [
      "INFO:httpx:HTTP Request: POST http://localhost:8321/v1/eval/benchmarks \"HTTP/1.1 200 OK\"\n"
     ]
    }
   ],
   "source": [
    "client.benchmarks.register(\n",
    "    benchmark_id=\"trustyai_lmeval::dk-bench\",\n",
    "    dataset_id=\"trustyai_lmeval::dk-bench\",\n",
    "    scoring_functions=[\"string\"],\n",
    "    provider_benchmark_id=\"string\",\n",
    "    provider_id=\"trustyai_lmeval\",\n",
    "    metadata={\n",
    "        \"custom_task\": {\n",
    "            \"git\": {\n",
    "                \"url\": \"https://github.com/trustyai-explainability/lm-eval-tasks.git\",\n",
    "                \"branch\": \"main\",\n",
    "                \"commit\": \"8220e2d73c187471acbe71659c98bccecfe77958\",\n",
    "                \"path\": \"tasks/\",\n",
    "            }\n",
    "        },\n",
    "        \"env\": {\n",
    "            \"DK_BENCH_DATASET_PATH\": \"/opt/app-root/src/hf_home/example-dk-bench-input-bmo.jsonl\", # Path of the dataset inside the PVC\n",
    "            \"JUDGE_MODEL_URL\": \"http://phi-3-predictor:8080/v1/chat/completions\",\n",
    "            \"JUDGE_MODEL_NAME\": \"phi-3\",  # For simplicity, we use the same model as the one being evaluated\n",
    "            \"JUDGE_API_KEY\": \"\",\n",
    "        },\n",
    "        \"tokenized_requests\": False,\n",
    "        \"tokenizer\": \"google/flan-t5-small\",\n",
    "        \"input\": {\"storage\": {\"pvc\": \"my-pvc\"}}\n",
    "    },\n",
    ")"
   ]
  },
  {
   "cell_type": "markdown",
   "id": "3e5e3e04",
   "metadata": {},
   "source": [
    "## 3. Run Benchmark Evaluation"
   ]
  },
  {
   "cell_type": "markdown",
   "id": "d857fabf",
   "metadata": {},
   "source": [
    "**3.1 Initiate an LM-Eval Job**"
   ]
  },
  {
   "cell_type": "code",
   "execution_count": null,
   "id": "50b7f986",
   "metadata": {},
   "outputs": [
    {
     "name": "stderr",
     "output_type": "stream",
     "text": [
      "INFO:httpx:HTTP Request: POST http://localhost:8321/v1/eval/benchmarks/trustyai_lmeval::dk-bench/jobs \"HTTP/1.1 200 OK\"\n"
     ]
    },
    {
     "name": "stdout",
     "output_type": "stream",
     "text": [
      "Starting job 'lmeval-job-6b0e40a0-7d1d-4208-b9e5-769ff01c9dff'\n"
     ]
    }
   ],
   "source": [
    "job = client.eval.run_eval(\n",
    "    benchmark_id=\"trustyai_lmeval::dk-bench\",\n",
    "    benchmark_config={\n",
    "        \"eval_candidate\": {\n",
    "            \"type\": \"model\",\n",
    "            \"model\": \"phi-3\",\n",
    "            \"provider_id\": \"trustyai_lmeval\",\n",
    "            \"sampling_params\": {\n",
    "                \"temperature\": 0.7,\n",
    "                \"top_p\": 0.9,\n",
    "                \"max_tokens\": 256\n",
    "            },\n",
    "        },\n",
    "        \"num_examples\": 1000,\n",
    "     },\n",
    ")\n",
    "\n",
    "print(f\"Starting job '{job.job_id}'\")"
   ]
  },
  {
   "cell_type": "markdown",
   "id": "aac1ece7",
   "metadata": {},
   "source": [
    "**3.2 Iteratively Check the Job's Status for Results**\n",
    "\n",
    "The job's status needs to be reported as `complete` before we can get the results of the evaluation"
   ]
  },
  {
   "cell_type": "code",
   "execution_count": null,
   "id": "9fc9eef4",
   "metadata": {},
   "outputs": [
    {
     "name": "stderr",
     "output_type": "stream",
     "text": [
      "INFO:httpx:HTTP Request: GET http://localhost:8321/v1/eval/benchmarks/trustyai_lmeval::dk-bench/jobs/lmeval-job-6b0e40a0-7d1d-4208-b9e5-769ff01c9dff \"HTTP/1.1 200 OK\"\n"
     ]
    },
    {
     "name": "stdout",
     "output_type": "stream",
     "text": [
      "Job(job_id='lmeval-job-6b0e40a0-7d1d-4208-b9e5-769ff01c9dff', status='scheduled')\n"
     ]
    },
    {
     "name": "stderr",
     "output_type": "stream",
     "text": [
      "INFO:httpx:HTTP Request: GET http://localhost:8321/v1/eval/benchmarks/trustyai_lmeval::dk-bench/jobs/lmeval-job-6b0e40a0-7d1d-4208-b9e5-769ff01c9dff \"HTTP/1.1 200 OK\"\n"
     ]
    },
    {
     "name": "stdout",
     "output_type": "stream",
     "text": [
      "Job(job_id='lmeval-job-6b0e40a0-7d1d-4208-b9e5-769ff01c9dff', status='scheduled')\n"
     ]
    },
    {
     "name": "stderr",
     "output_type": "stream",
     "text": [
      "INFO:httpx:HTTP Request: GET http://localhost:8321/v1/eval/benchmarks/trustyai_lmeval::dk-bench/jobs/lmeval-job-6b0e40a0-7d1d-4208-b9e5-769ff01c9dff \"HTTP/1.1 200 OK\"\n"
     ]
    },
    {
     "name": "stdout",
     "output_type": "stream",
     "text": [
      "Job(job_id='lmeval-job-6b0e40a0-7d1d-4208-b9e5-769ff01c9dff', status='in_progress')\n"
     ]
    },
    {
     "name": "stderr",
     "output_type": "stream",
     "text": [
      "INFO:httpx:HTTP Request: GET http://localhost:8321/v1/eval/benchmarks/trustyai_lmeval::dk-bench/jobs/lmeval-job-6b0e40a0-7d1d-4208-b9e5-769ff01c9dff \"HTTP/1.1 200 OK\"\n"
     ]
    },
    {
     "name": "stdout",
     "output_type": "stream",
     "text": [
      "Job(job_id='lmeval-job-6b0e40a0-7d1d-4208-b9e5-769ff01c9dff', status='in_progress')\n"
     ]
    },
    {
     "name": "stderr",
     "output_type": "stream",
     "text": [
      "INFO:httpx:HTTP Request: GET http://localhost:8321/v1/eval/benchmarks/trustyai_lmeval::dk-bench/jobs/lmeval-job-6b0e40a0-7d1d-4208-b9e5-769ff01c9dff \"HTTP/1.1 200 OK\"\n"
     ]
    },
    {
     "name": "stdout",
     "output_type": "stream",
     "text": [
      "Job(job_id='lmeval-job-6b0e40a0-7d1d-4208-b9e5-769ff01c9dff', status='in_progress')\n"
     ]
    },
    {
     "name": "stderr",
     "output_type": "stream",
     "text": [
      "INFO:httpx:HTTP Request: GET http://localhost:8321/v1/eval/benchmarks/trustyai_lmeval::dk-bench/jobs/lmeval-job-6b0e40a0-7d1d-4208-b9e5-769ff01c9dff \"HTTP/1.1 200 OK\"\n"
     ]
    },
    {
     "name": "stdout",
     "output_type": "stream",
     "text": [
      "Job(job_id='lmeval-job-6b0e40a0-7d1d-4208-b9e5-769ff01c9dff', status='in_progress')\n"
     ]
    },
    {
     "name": "stderr",
     "output_type": "stream",
     "text": [
      "INFO:httpx:HTTP Request: GET http://localhost:8321/v1/eval/benchmarks/trustyai_lmeval::dk-bench/jobs/lmeval-job-6b0e40a0-7d1d-4208-b9e5-769ff01c9dff \"HTTP/1.1 200 OK\"\n"
     ]
    },
    {
     "name": "stdout",
     "output_type": "stream",
     "text": [
      "Job(job_id='lmeval-job-6b0e40a0-7d1d-4208-b9e5-769ff01c9dff', status='in_progress')\n"
     ]
    },
    {
     "name": "stderr",
     "output_type": "stream",
     "text": [
      "INFO:httpx:HTTP Request: GET http://localhost:8321/v1/eval/benchmarks/trustyai_lmeval::dk-bench/jobs/lmeval-job-6b0e40a0-7d1d-4208-b9e5-769ff01c9dff \"HTTP/1.1 200 OK\"\n"
     ]
    },
    {
     "name": "stdout",
     "output_type": "stream",
     "text": [
      "Job(job_id='lmeval-job-6b0e40a0-7d1d-4208-b9e5-769ff01c9dff', status='in_progress')\n"
     ]
    },
    {
     "name": "stderr",
     "output_type": "stream",
     "text": [
      "INFO:httpx:HTTP Request: GET http://localhost:8321/v1/eval/benchmarks/trustyai_lmeval::dk-bench/jobs/lmeval-job-6b0e40a0-7d1d-4208-b9e5-769ff01c9dff \"HTTP/1.1 200 OK\"\n"
     ]
    },
    {
     "name": "stdout",
     "output_type": "stream",
     "text": [
      "Job(job_id='lmeval-job-6b0e40a0-7d1d-4208-b9e5-769ff01c9dff', status='in_progress')\n"
     ]
    },
    {
     "name": "stderr",
     "output_type": "stream",
     "text": [
      "INFO:httpx:HTTP Request: GET http://localhost:8321/v1/eval/benchmarks/trustyai_lmeval::dk-bench/jobs/lmeval-job-6b0e40a0-7d1d-4208-b9e5-769ff01c9dff \"HTTP/1.1 200 OK\"\n"
     ]
    },
    {
     "name": "stdout",
     "output_type": "stream",
     "text": [
      "Job(job_id='lmeval-job-6b0e40a0-7d1d-4208-b9e5-769ff01c9dff', status='in_progress')\n"
     ]
    },
    {
     "name": "stderr",
     "output_type": "stream",
     "text": [
      "INFO:httpx:HTTP Request: GET http://localhost:8321/v1/eval/benchmarks/trustyai_lmeval::dk-bench/jobs/lmeval-job-6b0e40a0-7d1d-4208-b9e5-769ff01c9dff \"HTTP/1.1 200 OK\"\n"
     ]
    },
    {
     "name": "stdout",
     "output_type": "stream",
     "text": [
      "Job(job_id='lmeval-job-6b0e40a0-7d1d-4208-b9e5-769ff01c9dff', status='in_progress')\n"
     ]
    },
    {
     "name": "stderr",
     "output_type": "stream",
     "text": [
      "INFO:httpx:HTTP Request: GET http://localhost:8321/v1/eval/benchmarks/trustyai_lmeval::dk-bench/jobs/lmeval-job-6b0e40a0-7d1d-4208-b9e5-769ff01c9dff \"HTTP/1.1 200 OK\"\n"
     ]
    },
    {
     "name": "stdout",
     "output_type": "stream",
     "text": [
      "Job(job_id='lmeval-job-6b0e40a0-7d1d-4208-b9e5-769ff01c9dff', status='in_progress')\n"
     ]
    },
    {
     "name": "stderr",
     "output_type": "stream",
     "text": [
      "INFO:httpx:HTTP Request: GET http://localhost:8321/v1/eval/benchmarks/trustyai_lmeval::dk-bench/jobs/lmeval-job-6b0e40a0-7d1d-4208-b9e5-769ff01c9dff \"HTTP/1.1 200 OK\"\n"
     ]
    },
    {
     "name": "stdout",
     "output_type": "stream",
     "text": [
      "Job(job_id='lmeval-job-6b0e40a0-7d1d-4208-b9e5-769ff01c9dff', status='in_progress')\n"
     ]
    },
    {
     "name": "stderr",
     "output_type": "stream",
     "text": [
      "INFO:httpx:HTTP Request: GET http://localhost:8321/v1/eval/benchmarks/trustyai_lmeval::dk-bench/jobs/lmeval-job-6b0e40a0-7d1d-4208-b9e5-769ff01c9dff \"HTTP/1.1 200 OK\"\n"
     ]
    },
    {
     "name": "stdout",
     "output_type": "stream",
     "text": [
      "Job(job_id='lmeval-job-6b0e40a0-7d1d-4208-b9e5-769ff01c9dff', status='in_progress')\n"
     ]
    },
    {
     "name": "stderr",
     "output_type": "stream",
     "text": [
      "INFO:httpx:HTTP Request: GET http://localhost:8321/v1/eval/benchmarks/trustyai_lmeval::dk-bench/jobs/lmeval-job-6b0e40a0-7d1d-4208-b9e5-769ff01c9dff \"HTTP/1.1 200 OK\"\n"
     ]
    },
    {
     "name": "stdout",
     "output_type": "stream",
     "text": [
      "Job(job_id='lmeval-job-6b0e40a0-7d1d-4208-b9e5-769ff01c9dff', status='in_progress')\n"
     ]
    },
    {
     "name": "stderr",
     "output_type": "stream",
     "text": [
      "INFO:httpx:HTTP Request: GET http://localhost:8321/v1/eval/benchmarks/trustyai_lmeval::dk-bench/jobs/lmeval-job-6b0e40a0-7d1d-4208-b9e5-769ff01c9dff \"HTTP/1.1 200 OK\"\n"
     ]
    },
    {
     "name": "stdout",
     "output_type": "stream",
     "text": [
      "Job(job_id='lmeval-job-6b0e40a0-7d1d-4208-b9e5-769ff01c9dff', status='in_progress')\n"
     ]
    },
    {
     "name": "stderr",
     "output_type": "stream",
     "text": [
      "INFO:httpx:HTTP Request: GET http://localhost:8321/v1/eval/benchmarks/trustyai_lmeval::dk-bench/jobs/lmeval-job-6b0e40a0-7d1d-4208-b9e5-769ff01c9dff \"HTTP/1.1 200 OK\"\n"
     ]
    },
    {
     "name": "stdout",
     "output_type": "stream",
     "text": [
      "Job(job_id='lmeval-job-6b0e40a0-7d1d-4208-b9e5-769ff01c9dff', status='in_progress')\n"
     ]
    },
    {
     "name": "stderr",
     "output_type": "stream",
     "text": [
      "INFO:httpx:HTTP Request: GET http://localhost:8321/v1/eval/benchmarks/trustyai_lmeval::dk-bench/jobs/lmeval-job-6b0e40a0-7d1d-4208-b9e5-769ff01c9dff \"HTTP/1.1 200 OK\"\n"
     ]
    },
    {
     "name": "stdout",
     "output_type": "stream",
     "text": [
      "Job(job_id='lmeval-job-6b0e40a0-7d1d-4208-b9e5-769ff01c9dff', status='in_progress')\n"
     ]
    },
    {
     "name": "stderr",
     "output_type": "stream",
     "text": [
      "INFO:httpx:HTTP Request: GET http://localhost:8321/v1/eval/benchmarks/trustyai_lmeval::dk-bench/jobs/lmeval-job-6b0e40a0-7d1d-4208-b9e5-769ff01c9dff \"HTTP/1.1 200 OK\"\n"
     ]
    },
    {
     "name": "stdout",
     "output_type": "stream",
     "text": [
      "Job(job_id='lmeval-job-6b0e40a0-7d1d-4208-b9e5-769ff01c9dff', status='in_progress')\n"
     ]
    },
    {
     "name": "stderr",
     "output_type": "stream",
     "text": [
      "INFO:httpx:HTTP Request: GET http://localhost:8321/v1/eval/benchmarks/trustyai_lmeval::dk-bench/jobs/lmeval-job-6b0e40a0-7d1d-4208-b9e5-769ff01c9dff \"HTTP/1.1 200 OK\"\n"
     ]
    },
    {
     "name": "stdout",
     "output_type": "stream",
     "text": [
      "Job(job_id='lmeval-job-6b0e40a0-7d1d-4208-b9e5-769ff01c9dff', status='in_progress')\n"
     ]
    },
    {
     "name": "stderr",
     "output_type": "stream",
     "text": [
      "INFO:httpx:HTTP Request: GET http://localhost:8321/v1/eval/benchmarks/trustyai_lmeval::dk-bench/jobs/lmeval-job-6b0e40a0-7d1d-4208-b9e5-769ff01c9dff \"HTTP/1.1 200 OK\"\n"
     ]
    },
    {
     "name": "stdout",
     "output_type": "stream",
     "text": [
      "Job(job_id='lmeval-job-6b0e40a0-7d1d-4208-b9e5-769ff01c9dff', status='in_progress')\n"
     ]
    },
    {
     "name": "stderr",
     "output_type": "stream",
     "text": [
      "INFO:httpx:HTTP Request: GET http://localhost:8321/v1/eval/benchmarks/trustyai_lmeval::dk-bench/jobs/lmeval-job-6b0e40a0-7d1d-4208-b9e5-769ff01c9dff \"HTTP/1.1 200 OK\"\n"
     ]
    },
    {
     "name": "stdout",
     "output_type": "stream",
     "text": [
      "Job(job_id='lmeval-job-6b0e40a0-7d1d-4208-b9e5-769ff01c9dff', status='in_progress')\n"
     ]
    },
    {
     "name": "stderr",
     "output_type": "stream",
     "text": [
      "INFO:httpx:HTTP Request: GET http://localhost:8321/v1/eval/benchmarks/trustyai_lmeval::dk-bench/jobs/lmeval-job-6b0e40a0-7d1d-4208-b9e5-769ff01c9dff \"HTTP/1.1 200 OK\"\n"
     ]
    },
    {
     "name": "stdout",
     "output_type": "stream",
     "text": [
      "Job(job_id='lmeval-job-6b0e40a0-7d1d-4208-b9e5-769ff01c9dff', status='in_progress')\n"
     ]
    },
    {
     "name": "stderr",
     "output_type": "stream",
     "text": [
      "INFO:httpx:HTTP Request: GET http://localhost:8321/v1/eval/benchmarks/trustyai_lmeval::dk-bench/jobs/lmeval-job-6b0e40a0-7d1d-4208-b9e5-769ff01c9dff \"HTTP/1.1 200 OK\"\n"
     ]
    },
    {
     "name": "stdout",
     "output_type": "stream",
     "text": [
      "Job(job_id='lmeval-job-6b0e40a0-7d1d-4208-b9e5-769ff01c9dff', status='in_progress')\n"
     ]
    },
    {
     "name": "stderr",
     "output_type": "stream",
     "text": [
      "INFO:httpx:HTTP Request: GET http://localhost:8321/v1/eval/benchmarks/trustyai_lmeval::dk-bench/jobs/lmeval-job-6b0e40a0-7d1d-4208-b9e5-769ff01c9dff \"HTTP/1.1 200 OK\"\n"
     ]
    },
    {
     "name": "stdout",
     "output_type": "stream",
     "text": [
      "Job(job_id='lmeval-job-6b0e40a0-7d1d-4208-b9e5-769ff01c9dff', status='in_progress')\n"
     ]
    },
    {
     "name": "stderr",
     "output_type": "stream",
     "text": [
      "INFO:httpx:HTTP Request: GET http://localhost:8321/v1/eval/benchmarks/trustyai_lmeval::dk-bench/jobs/lmeval-job-6b0e40a0-7d1d-4208-b9e5-769ff01c9dff \"HTTP/1.1 200 OK\"\n"
     ]
    },
    {
     "name": "stdout",
     "output_type": "stream",
     "text": [
      "Job(job_id='lmeval-job-6b0e40a0-7d1d-4208-b9e5-769ff01c9dff', status='in_progress')\n"
     ]
    },
    {
     "name": "stderr",
     "output_type": "stream",
     "text": [
      "INFO:httpx:HTTP Request: GET http://localhost:8321/v1/eval/benchmarks/trustyai_lmeval::dk-bench/jobs/lmeval-job-6b0e40a0-7d1d-4208-b9e5-769ff01c9dff \"HTTP/1.1 200 OK\"\n"
     ]
    },
    {
     "name": "stdout",
     "output_type": "stream",
     "text": [
      "Job(job_id='lmeval-job-6b0e40a0-7d1d-4208-b9e5-769ff01c9dff', status='in_progress')\n"
     ]
    },
    {
     "name": "stderr",
     "output_type": "stream",
     "text": [
      "INFO:httpx:HTTP Request: GET http://localhost:8321/v1/eval/benchmarks/trustyai_lmeval::dk-bench/jobs/lmeval-job-6b0e40a0-7d1d-4208-b9e5-769ff01c9dff \"HTTP/1.1 200 OK\"\n"
     ]
    },
    {
     "name": "stdout",
     "output_type": "stream",
     "text": [
      "Job(job_id='lmeval-job-6b0e40a0-7d1d-4208-b9e5-769ff01c9dff', status='in_progress')\n"
     ]
    },
    {
     "name": "stderr",
     "output_type": "stream",
     "text": [
      "INFO:httpx:HTTP Request: GET http://localhost:8321/v1/eval/benchmarks/trustyai_lmeval::dk-bench/jobs/lmeval-job-6b0e40a0-7d1d-4208-b9e5-769ff01c9dff \"HTTP/1.1 200 OK\"\n"
     ]
    },
    {
     "name": "stdout",
     "output_type": "stream",
     "text": [
      "Job(job_id='lmeval-job-6b0e40a0-7d1d-4208-b9e5-769ff01c9dff', status='in_progress')\n"
     ]
    },
    {
     "name": "stderr",
     "output_type": "stream",
     "text": [
      "INFO:httpx:HTTP Request: GET http://localhost:8321/v1/eval/benchmarks/trustyai_lmeval::dk-bench/jobs/lmeval-job-6b0e40a0-7d1d-4208-b9e5-769ff01c9dff \"HTTP/1.1 200 OK\"\n"
     ]
    },
    {
     "name": "stdout",
     "output_type": "stream",
     "text": [
      "Job(job_id='lmeval-job-6b0e40a0-7d1d-4208-b9e5-769ff01c9dff', status='in_progress')\n"
     ]
    },
    {
     "name": "stderr",
     "output_type": "stream",
     "text": [
      "INFO:httpx:HTTP Request: GET http://localhost:8321/v1/eval/benchmarks/trustyai_lmeval::dk-bench/jobs/lmeval-job-6b0e40a0-7d1d-4208-b9e5-769ff01c9dff \"HTTP/1.1 200 OK\"\n"
     ]
    },
    {
     "name": "stdout",
     "output_type": "stream",
     "text": [
      "Job(job_id='lmeval-job-6b0e40a0-7d1d-4208-b9e5-769ff01c9dff', status='in_progress')\n"
     ]
    },
    {
     "name": "stderr",
     "output_type": "stream",
     "text": [
      "INFO:httpx:HTTP Request: GET http://localhost:8321/v1/eval/benchmarks/trustyai_lmeval::dk-bench/jobs/lmeval-job-6b0e40a0-7d1d-4208-b9e5-769ff01c9dff \"HTTP/1.1 200 OK\"\n"
     ]
    },
    {
     "name": "stdout",
     "output_type": "stream",
     "text": [
      "Job(job_id='lmeval-job-6b0e40a0-7d1d-4208-b9e5-769ff01c9dff', status='in_progress')\n"
     ]
    },
    {
     "name": "stderr",
     "output_type": "stream",
     "text": [
      "INFO:httpx:HTTP Request: GET http://localhost:8321/v1/eval/benchmarks/trustyai_lmeval::dk-bench/jobs/lmeval-job-6b0e40a0-7d1d-4208-b9e5-769ff01c9dff \"HTTP/1.1 200 OK\"\n"
     ]
    },
    {
     "name": "stdout",
     "output_type": "stream",
     "text": [
      "Job(job_id='lmeval-job-6b0e40a0-7d1d-4208-b9e5-769ff01c9dff', status='in_progress')\n"
     ]
    },
    {
     "name": "stderr",
     "output_type": "stream",
     "text": [
      "INFO:httpx:HTTP Request: GET http://localhost:8321/v1/eval/benchmarks/trustyai_lmeval::dk-bench/jobs/lmeval-job-6b0e40a0-7d1d-4208-b9e5-769ff01c9dff \"HTTP/1.1 200 OK\"\n"
     ]
    },
    {
     "name": "stdout",
     "output_type": "stream",
     "text": [
      "Job(job_id='lmeval-job-6b0e40a0-7d1d-4208-b9e5-769ff01c9dff', status='in_progress')\n"
     ]
    },
    {
     "name": "stderr",
     "output_type": "stream",
     "text": [
      "INFO:httpx:HTTP Request: GET http://localhost:8321/v1/eval/benchmarks/trustyai_lmeval::dk-bench/jobs/lmeval-job-6b0e40a0-7d1d-4208-b9e5-769ff01c9dff \"HTTP/1.1 200 OK\"\n"
     ]
    },
    {
     "name": "stdout",
     "output_type": "stream",
     "text": [
      "Job(job_id='lmeval-job-6b0e40a0-7d1d-4208-b9e5-769ff01c9dff', status='in_progress')\n"
     ]
    },
    {
     "name": "stderr",
     "output_type": "stream",
     "text": [
      "INFO:httpx:HTTP Request: GET http://localhost:8321/v1/eval/benchmarks/trustyai_lmeval::dk-bench/jobs/lmeval-job-6b0e40a0-7d1d-4208-b9e5-769ff01c9dff \"HTTP/1.1 200 OK\"\n"
     ]
    },
    {
     "name": "stdout",
     "output_type": "stream",
     "text": [
      "Job(job_id='lmeval-job-6b0e40a0-7d1d-4208-b9e5-769ff01c9dff', status='completed')\n",
      "Job ended with status: completed\n"
     ]
    }
   ],
   "source": [
    "def get_job_status(job_id, benchmark_id):\n",
    "    return client.eval.jobs.status(job_id=job_id, benchmark_id=benchmark_id)\n",
    "\n",
    "while True:\n",
    "    job = get_job_status(job_id=job.job_id, benchmark_id=\"trustyai_lmeval::dk-bench\")\n",
    "    print(job)\n",
    "\n",
    "    if job.status in ['failed', 'completed']:\n",
    "        print(f\"Job ended with status: {job.status}\")\n",
    "        break\n",
    "\n",
    "    time.sleep(20)"
   ]
  },
  {
   "cell_type": "markdown",
   "id": "d9064f5f",
   "metadata": {},
   "source": [
    "**3.3 Get the Results of the Evaluation**"
   ]
  },
  {
   "cell_type": "code",
   "execution_count": 9,
   "id": "afad62bc",
   "metadata": {},
   "outputs": [
    {
     "name": "stderr",
     "output_type": "stream",
     "text": [
      "INFO:httpx:HTTP Request: GET http://localhost:8321/v1/eval/benchmarks/trustyai_lmeval::dk-bench/jobs/lmeval-job-6b0e40a0-7d1d-4208-b9e5-769ff01c9dff/result \"HTTP/1.1 200 OK\"\n"
     ]
    },
    {
     "name": "stdout",
     "output_type": "stream",
     "text": [
      "{'dk-bench:invalid_score_count': ScoringResult(aggregated_results={'invalid_score_count': 21.0}, score_rows=[{'score': 21.0}]),\n",
      " 'dk-bench:mean_score': ScoringResult(aggregated_results={'mean_score': 2.020408163265306}, score_rows=[{'score': 2.020408163265306}]),\n",
      " 'dk-bench:mean_score_stderr': ScoringResult(aggregated_results={'mean_score_stderr': 0.2711931872826892}, score_rows=[{'score': 0.2711931872826892}]),\n",
      " 'dk-bench:score_1_count': ScoringResult(aggregated_results={'score_1_count': 1.0}, score_rows=[{'score': 1.0}]),\n",
      " 'dk-bench:score_2_count': ScoringResult(aggregated_results={'score_2_count': 2.0}, score_rows=[{'score': 2.0}]),\n",
      " 'dk-bench:score_3_count': ScoringResult(aggregated_results={'score_3_count': 9.0}, score_rows=[{'score': 9.0}]),\n",
      " 'dk-bench:score_4_count': ScoringResult(aggregated_results={'score_4_count': 13.0}, score_rows=[{'score': 13.0}]),\n",
      " 'dk-bench:score_5_count': ScoringResult(aggregated_results={'score_5_count': 3.0}, score_rows=[{'score': 3.0}])}\n"
     ]
    }
   ],
   "source": [
    "pprint.pprint(client.eval.jobs.retrieve(job_id=job.job_id, benchmark_id=\"trustyai_lmeval::dk-bench\").scores)"
   ]
  }
 ],
 "metadata": {
  "kernelspec": {
   "display_name": ".llama-venv",
   "language": "python",
   "name": "python3"
  },
  "language_info": {
   "codemirror_mode": {
    "name": "ipython",
    "version": 3
   },
   "file_extension": ".py",
   "mimetype": "text/x-python",
   "name": "python",
   "nbconvert_exporter": "python",
   "pygments_lexer": "ipython3",
   "version": "3.10.17"
  }
 },
 "nbformat": 4,
 "nbformat_minor": 5
}
