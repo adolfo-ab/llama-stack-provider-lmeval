{
 "cells": [
  {
   "cell_type": "markdown",
   "id": "94b6a2f4",
   "metadata": {},
   "source": [
    "# Getting Started with LM-Eval\n",
    "\n",
    "This tutorial presents an example of running benchmark evaluations on the `ARC-Easy` dataset with the TrustyAI LM-Eval Eval provider on LlamaStack. "
   ]
  },
  {
   "cell_type": "markdown",
   "id": "9604b9a4",
   "metadata": {},
   "source": [
    "## Overview\n",
    "\n",
    "This tutorial covers the following steps:\n",
    "1. Running a script to deploy a model on vLLM\n",
    "2. Connecting to a custom llama-stack server with LM-Eval added as an Eval provider\n",
    "3. Registering the ARC-Easy benchmark \n",
    "4. Running a LM-Eval job to evaluate the model over the ARC-Easy benchmark"
   ]
  },
  {
   "cell_type": "markdown",
   "id": "46f7638c",
   "metadata": {},
   "source": [
    "## Prerequisites\n",
    "* Create a virtual environment:\n",
    "`uv venv .llama-venv`\n",
    "\n",
    "* Activate the virutal environment:\n",
    "`source .llama-venv/bin/activate`\n",
    "\n",
    "* Install the required libraries:\n",
    "`uv pip install -e .`"
   ]
  },
  {
   "cell_type": "markdown",
   "id": "f2568b80",
   "metadata": {},
   "source": [
    "## 0. Deploy a model on vLLM\n",
    "Run the following command to deploy a Phi-3 model on vLLM Serving Runtime. By default, it creates a namespace named `model-namespace` and deploys the model in it."
   ]
  },
  {
   "cell_type": "code",
   "execution_count": null,
   "id": "2e77f345",
   "metadata": {},
   "outputs": [],
   "source": [
    "!scripts/deploy_model.sh"
   ]
  },
  {
   "cell_type": "markdown",
   "id": "c13b7fab",
   "metadata": {},
   "source": [
    "## 1. Start the LlamaStack Server\n",
    "\n",
    "**1.1 Configure the LlamaStack Server**\n",
    "\n",
    "Define the following env vars: \n",
    "* `export VLLM_URL=...` - the `v1/completions` endpoint of the deployed model\n",
    "* `export TRUSTYAI_LM_EVAL_NAMESPACE=...` - the namespace that the model is deployed in"
   ]
  },
  {
   "cell_type": "markdown",
   "id": "1c7e272a",
   "metadata": {},
   "source": [
    "**1.2 Start the Llama Stack Server**\n",
    "\n",
    "From the terminal, start the Llama Stack server in the virtual environment: \n",
    "\n",
    "`llama stack run run.yaml --image-type venv`"
   ]
  },
  {
   "cell_type": "code",
   "execution_count": null,
   "id": "70bbdaa0",
   "metadata": {},
   "outputs": [],
   "source": [
    "# import required libraries\n",
    "import os\n",
    "import subprocess\n",
    "\n",
    "import logging\n",
    "\n",
    "import time\n",
    "import pprint"
   ]
  },
  {
   "cell_type": "markdown",
   "id": "c76c7e8b",
   "metadata": {},
   "source": [
    "**1.3 Instantiate the Llama Stack Python Client**"
   ]
  },
  {
   "cell_type": "code",
   "execution_count": 2,
   "id": "896ad143",
   "metadata": {},
   "outputs": [],
   "source": [
    "BASE_URL = \"http://localhost:8321\"\n",
    "\n",
    "def create_http_client():\n",
    "    from llama_stack_client import LlamaStackClient\n",
    "    return LlamaStackClient(base_url=BASE_URL)\n",
    "\n",
    "client = create_http_client()"
   ]
  },
  {
   "cell_type": "markdown",
   "id": "7a5bd269",
   "metadata": {},
   "source": [
    "## 2. Register ARC-Easy as a Benchmark"
   ]
  },
  {
   "cell_type": "markdown",
   "id": "f4987d46",
   "metadata": {},
   "source": [
    "**2.1 Check the current list of available benchmarks**"
   ]
  },
  {
   "cell_type": "code",
   "execution_count": null,
   "id": "aeca0ab3",
   "metadata": {},
   "outputs": [
    {
     "name": "stdout",
     "output_type": "stream",
     "text": [
      "Available benchmarks: []\n"
     ]
    }
   ],
   "source": [
    "benchmarks = client.benchmarks.list()\n",
    "\n",
    "pprint.print(f\"Available benchmarks: {benchmarks}\")"
   ]
  },
  {
   "cell_type": "markdown",
   "id": "d0fb41ff",
   "metadata": {},
   "source": [
    "**2.2 Register ARC-Easy as a Benchmark**"
   ]
  },
  {
   "cell_type": "code",
   "execution_count": null,
   "id": "16c57344",
   "metadata": {},
   "outputs": [],
   "source": [
    "client.benchmarks.register(\n",
    "    benchmark_id=\"trustyai_lmeval::arc_easy\",\n",
    "    dataset_id=\"trustyai_lmeval::arc_easy\",\n",
    "    scoring_functions=[\"string\"],\n",
    "    provider_benchmark_id=\"string\",\n",
    "    provider_id=\"trustyai_lmeval\",\n",
    "    metadata={\n",
    "        \"tokenized_requests\": False,\n",
    "        \"tokenizer\": \"google/flan-t5-small\"\n",
    "    }\n",
    ")"
   ]
  },
  {
   "cell_type": "markdown",
   "id": "f112b0cf",
   "metadata": {},
   "source": [
    "**2.3 Sanity Check**\n",
    "\n",
    "Verify that the list of available benchmarks has updated to include ARC-Easy"
   ]
  },
  {
   "cell_type": "code",
   "execution_count": null,
   "id": "645f30c7",
   "metadata": {},
   "outputs": [
    {
     "name": "stdout",
     "output_type": "stream",
     "text": [
      "Available benchmarks: Benchmark(dataset_id='trustyai_lmeval::arc_easy', \"\n",
      " \"identifier='trustyai_lmeval::arc_easy', \"\n",
      " \"provider_id='trustyai_lmeval', provider_resource_id='string', \"\n",
      " \"scoring_functions=['string'], type='benchmark')\n",
      "\n"
     ]
    }
   ],
   "source": [
    "benchmarks = client.benchmarks.list()\n",
    "\n",
    "pprint.print(f\"Available benchmarks: {benchmarks}\")"
   ]
  },
  {
   "cell_type": "markdown",
   "id": "285a1744",
   "metadata": {},
   "source": [
    "## 3. Run Benchmark Evaluation"
   ]
  },
  {
   "cell_type": "markdown",
   "id": "8ecba867",
   "metadata": {},
   "source": [
    "**3.1 Initiate an LM-Eval Job**"
   ]
  },
  {
   "cell_type": "code",
   "execution_count": 7,
   "id": "c7e10653",
   "metadata": {},
   "outputs": [
    {
     "name": "stdout",
     "output_type": "stream",
     "text": [
      "Starting job 'lmeval-job-17e25d1f-1f95-4cee-b250-cf477299b36b'\n"
     ]
    }
   ],
   "source": [
    "job = client.eval.run_eval(\n",
    "    benchmark_id=\"trustyai_lmeval::arc_easy\",\n",
    "    benchmark_config={\n",
    "        \"eval_candidate\": {\n",
    "            \"type\": \"model\",\n",
    "            \"model\": \"phi-3\",\n",
    "            \"provider_id\": \"trustyai_lmeval\",\n",
    "            \"sampling_params\": {\n",
    "                \"temperature\": 0.7,\n",
    "                \"top_p\": 0.9,\n",
    "                \"max_tokens\": 256\n",
    "            },\n",
    "        },\n",
    "        \"num_examples\": 1000,\n",
    "     },\n",
    ")\n",
    "\n",
    "print(f\"Starting job '{job.job_id}'\")"
   ]
  },
  {
   "cell_type": "markdown",
   "id": "090fefe0",
   "metadata": {},
   "source": [
    "**3.2 Iteratively Check the Job's Status for Results**\n",
    "\n",
    "The job's status needs to be reported as `complete` before we can get the results of the evaluation"
   ]
  },
  {
   "cell_type": "code",
   "execution_count": 7,
   "id": "afb72d86",
   "metadata": {},
   "outputs": [
    {
     "name": "stdout",
     "output_type": "stream",
     "text": [
      "Job(job_id='lmeval-job-9ff0b86e-cba9-4060-8385-bf14e167480b', status='scheduled')\n",
      "Job(job_id='lmeval-job-9ff0b86e-cba9-4060-8385-bf14e167480b', status='in_progress')\n",
      "Job(job_id='lmeval-job-9ff0b86e-cba9-4060-8385-bf14e167480b', status='in_progress')\n",
      "Job(job_id='lmeval-job-9ff0b86e-cba9-4060-8385-bf14e167480b', status='in_progress')\n",
      "Job(job_id='lmeval-job-9ff0b86e-cba9-4060-8385-bf14e167480b', status='in_progress')\n",
      "Job(job_id='lmeval-job-9ff0b86e-cba9-4060-8385-bf14e167480b', status='in_progress')\n",
      "Job(job_id='lmeval-job-9ff0b86e-cba9-4060-8385-bf14e167480b', status='in_progress')\n",
      "Job(job_id='lmeval-job-9ff0b86e-cba9-4060-8385-bf14e167480b', status='in_progress')\n",
      "Job(job_id='lmeval-job-9ff0b86e-cba9-4060-8385-bf14e167480b', status='in_progress')\n",
      "Job(job_id='lmeval-job-9ff0b86e-cba9-4060-8385-bf14e167480b', status='in_progress')\n",
      "Job(job_id='lmeval-job-9ff0b86e-cba9-4060-8385-bf14e167480b', status='in_progress')\n",
      "Job(job_id='lmeval-job-9ff0b86e-cba9-4060-8385-bf14e167480b', status='in_progress')\n",
      "Job(job_id='lmeval-job-9ff0b86e-cba9-4060-8385-bf14e167480b', status='in_progress')\n",
      "Job(job_id='lmeval-job-9ff0b86e-cba9-4060-8385-bf14e167480b', status='in_progress')\n",
      "Job(job_id='lmeval-job-9ff0b86e-cba9-4060-8385-bf14e167480b', status='in_progress')\n",
      "Job(job_id='lmeval-job-9ff0b86e-cba9-4060-8385-bf14e167480b', status='in_progress')\n",
      "Job(job_id='lmeval-job-9ff0b86e-cba9-4060-8385-bf14e167480b', status='in_progress')\n",
      "Job(job_id='lmeval-job-9ff0b86e-cba9-4060-8385-bf14e167480b', status='in_progress')\n",
      "Job(job_id='lmeval-job-9ff0b86e-cba9-4060-8385-bf14e167480b', status='in_progress')\n",
      "Job(job_id='lmeval-job-9ff0b86e-cba9-4060-8385-bf14e167480b', status='in_progress')\n",
      "Job(job_id='lmeval-job-9ff0b86e-cba9-4060-8385-bf14e167480b', status='in_progress')\n",
      "Job(job_id='lmeval-job-9ff0b86e-cba9-4060-8385-bf14e167480b', status='in_progress')\n",
      "Job(job_id='lmeval-job-9ff0b86e-cba9-4060-8385-bf14e167480b', status='in_progress')\n",
      "Job(job_id='lmeval-job-9ff0b86e-cba9-4060-8385-bf14e167480b', status='in_progress')\n",
      "Job(job_id='lmeval-job-9ff0b86e-cba9-4060-8385-bf14e167480b', status='in_progress')\n",
      "Job(job_id='lmeval-job-9ff0b86e-cba9-4060-8385-bf14e167480b', status='in_progress')\n",
      "Job(job_id='lmeval-job-9ff0b86e-cba9-4060-8385-bf14e167480b', status='in_progress')\n",
      "Job(job_id='lmeval-job-9ff0b86e-cba9-4060-8385-bf14e167480b', status='in_progress')\n",
      "Job(job_id='lmeval-job-9ff0b86e-cba9-4060-8385-bf14e167480b', status='in_progress')\n",
      "Job(job_id='lmeval-job-9ff0b86e-cba9-4060-8385-bf14e167480b', status='in_progress')\n",
      "Job(job_id='lmeval-job-9ff0b86e-cba9-4060-8385-bf14e167480b', status='in_progress')\n",
      "Job(job_id='lmeval-job-9ff0b86e-cba9-4060-8385-bf14e167480b', status='in_progress')\n",
      "Job(job_id='lmeval-job-9ff0b86e-cba9-4060-8385-bf14e167480b', status='in_progress')\n",
      "Job(job_id='lmeval-job-9ff0b86e-cba9-4060-8385-bf14e167480b', status='in_progress')\n",
      "Job(job_id='lmeval-job-9ff0b86e-cba9-4060-8385-bf14e167480b', status='in_progress')\n",
      "Job(job_id='lmeval-job-9ff0b86e-cba9-4060-8385-bf14e167480b', status='in_progress')\n",
      "Job(job_id='lmeval-job-9ff0b86e-cba9-4060-8385-bf14e167480b', status='in_progress')\n",
      "Job(job_id='lmeval-job-9ff0b86e-cba9-4060-8385-bf14e167480b', status='in_progress')\n",
      "Job(job_id='lmeval-job-9ff0b86e-cba9-4060-8385-bf14e167480b', status='in_progress')\n",
      "Job(job_id='lmeval-job-9ff0b86e-cba9-4060-8385-bf14e167480b', status='completed')\n",
      "Job ended with status: completed\n"
     ]
    }
   ],
   "source": [
    "def get_job_status(job_id, benchmark_id):\n",
    "    return client.eval.jobs.status(job_id=job_id, benchmark_id=benchmark_id)\n",
    "\n",
    "while True:\n",
    "    job = get_job_status(job_id=job.job_id, benchmark_id=\"trustyai_lmeval::arc_easy\")\n",
    "    print(job)\n",
    "\n",
    "    if job.status in ['failed', 'completed']:\n",
    "        print(f\"Job ended with status: {job.status}\")\n",
    "        break\n",
    "\n",
    "    time.sleep(20)"
   ]
  },
  {
   "cell_type": "markdown",
   "id": "cf7196b3",
   "metadata": {},
   "source": [
    "**3.3 Get the Results of the Evaluation**"
   ]
  },
  {
   "cell_type": "code",
   "execution_count": 9,
   "id": "8bb54de8",
   "metadata": {},
   "outputs": [
    {
     "name": "stdout",
     "output_type": "stream",
     "text": [
      "{'arc_easy:acc': ScoringResult(aggregated_results={'acc': 0.715}, score_rows=[{'score': 0.715}]),\n",
      " 'arc_easy:acc_norm': ScoringResult(aggregated_results={'acc_norm': 0.679}, score_rows=[{'score': 0.679}]),\n",
      " 'arc_easy:acc_norm_stderr': ScoringResult(aggregated_results={'acc_norm_stderr': 0.014770821817934637}, score_rows=[{'score': 0.014770821817934637}]),\n",
      " 'arc_easy:acc_stderr': ScoringResult(aggregated_results={'acc_stderr': 0.014282120955200475}, score_rows=[{'score': 0.014282120955200475}])}\n"
     ]
    }
   ],
   "source": [
    "pprint.pprint(client.eval.jobs.retrieve(job_id=job.job_id, benchmark_id=\"trustyai_lmeval::arc_easy\").scores)"
   ]
  }
 ],
 "metadata": {
  "kernelspec": {
   "display_name": ".llama-venv",
   "language": "python",
   "name": "python3"
  },
  "language_info": {
   "codemirror_mode": {
    "name": "ipython",
    "version": 3
   },
   "file_extension": ".py",
   "mimetype": "text/x-python",
   "name": "python",
   "nbconvert_exporter": "python",
   "pygments_lexer": "ipython3",
   "version": "3.10.17"
  }
 },
 "nbformat": 4,
 "nbformat_minor": 5
}
